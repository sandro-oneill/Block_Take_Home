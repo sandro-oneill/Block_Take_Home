{
 "cells": [
  {
   "cell_type": "code",
   "execution_count": 1,
   "id": "951a8188",
   "metadata": {},
   "outputs": [],
   "source": [
    "import pandas as pd\n",
    "import numpy as np"
   ]
  },
  {
   "cell_type": "markdown",
   "id": "4340ebc8",
   "metadata": {},
   "source": [
    "#### Reads in the Deal Table Query output, specifies dates in the closed won column"
   ]
  },
  {
   "cell_type": "markdown",
   "id": "1c7f52c7",
   "metadata": {},
   "source": [
    "#### Query used for Output:\n",
    "- select distinct deal_id,closed_won_date,deal_value_usd\n",
    "    from deal \n",
    "    where deal_value_usd is not null;"
   ]
  },
  {
   "cell_type": "code",
   "execution_count": 2,
   "id": "4c730a23",
   "metadata": {},
   "outputs": [],
   "source": [
    "df = pd.read_csv('query_output.csv',parse_dates=['closed_won_date'])"
   ]
  },
  {
   "cell_type": "code",
   "execution_count": 3,
   "id": "4f809ccd",
   "metadata": {},
   "outputs": [],
   "source": [
    "# Limiting to projects with deals with $ values\n",
    "df = df[~df['deal_value_usd'].isnull()]"
   ]
  },
  {
   "cell_type": "code",
   "execution_count": 4,
   "id": "2fd4e388",
   "metadata": {},
   "outputs": [
    {
     "data": {
      "text/plain": [
       "(842, 3)"
      ]
     },
     "execution_count": 4,
     "metadata": {},
     "output_type": "execute_result"
    }
   ],
   "source": [
    "# Total Number of valid projects\n",
    "df.shape"
   ]
  },
  {
   "cell_type": "code",
   "execution_count": 5,
   "id": "aca0eeee",
   "metadata": {
    "scrolled": true
   },
   "outputs": [
    {
     "name": "stdout",
     "output_type": "stream",
     "text": [
      "First project start date 2018-06-01 00:00:00\n",
      "Last project start date 2021-07-13 00:00:00\n"
     ]
    }
   ],
   "source": [
    "# Checking date range\n",
    "print('First project start date',df['closed_won_date'].min())\n",
    "print('Last project start date',df['closed_won_date'].max())"
   ]
  },
  {
   "cell_type": "code",
   "execution_count": 6,
   "id": "c3c5135f",
   "metadata": {},
   "outputs": [],
   "source": [
    "# Defining month and pct revenue lists\n",
    "months = [0,3,6]\n",
    "rev = [0.2,0.4,0.4]"
   ]
  },
  {
   "cell_type": "code",
   "execution_count": 7,
   "id": "10daa7f8",
   "metadata": {},
   "outputs": [],
   "source": [
    "# The loop below creates 3 dataframes for each point in revenue for each deal using the above lists\n",
    "# Appends all into the df_full object\n",
    "df_full = pd.DataFrame()\n",
    "for i in range(0,3):\n",
    "    df_tmp = pd.DataFrame({'deal_id':df['deal_id']\n",
    "                          ,'date':df['closed_won_date']+pd.DateOffset(months=months[i])\n",
    "                          ,'rev':df['deal_value_usd']*rev[i]})\n",
    "    df_full = df_full.append(df_tmp,ignore_index=True)\n",
    "    df_full = df_full.sort_values(by=['date'])"
   ]
  },
  {
   "cell_type": "code",
   "execution_count": 8,
   "id": "6c8c8875",
   "metadata": {},
   "outputs": [
    {
     "data": {
      "text/plain": [
       "True"
      ]
     },
     "execution_count": 8,
     "metadata": {},
     "output_type": "execute_result"
    }
   ],
   "source": [
    "# Quick check to verify every distinct deal id appears three times in the total set\n",
    "len(df_full['deal_id'])/len(df_full['deal_id'].unique()) == 3"
   ]
  },
  {
   "cell_type": "code",
   "execution_count": 9,
   "id": "23ea0ffe",
   "metadata": {
    "scrolled": true
   },
   "outputs": [],
   "source": [
    "# Groupby Aggregation for Year-Month totals\n",
    "ts = pd.DataFrame(df_full.groupby(df_full.date.dt.to_period('M'))['rev'].sum())"
   ]
  },
  {
   "cell_type": "code",
   "execution_count": 10,
   "id": "1c3afbc9",
   "metadata": {},
   "outputs": [
    {
     "name": "stdout",
     "output_type": "stream",
     "text": [
      "2021-06 $ 1526444.0\n"
     ]
    }
   ],
   "source": [
    "# Year - Month with highest revenue\n",
    "print(ts['rev'].idxmax(),'$',ts['rev'].max())"
   ]
  },
  {
   "cell_type": "code",
   "execution_count": 11,
   "id": "713be00d",
   "metadata": {},
   "outputs": [
    {
     "data": {
      "text/plain": [
       "<AxesSubplot:xlabel='date'>"
      ]
     },
     "execution_count": 11,
     "metadata": {},
     "output_type": "execute_result"
    },
    {
     "data": {
      "image/png": "[encoded data removed]",
      "text/plain": [
       "<Figure size 432x288 with 1 Axes>"
      ]
     },
     "metadata": {
      "needs_background": "light"
     },
     "output_type": "display_data"
    }
   ],
   "source": [
    "ts.plot()"
   ]
  },
  {
   "cell_type": "code",
   "execution_count": 12,
   "id": "cf74bc19",
   "metadata": {},
   "outputs": [
    {
     "data": {
      "text/html": [
       "<div>\n",
       "<style scoped>\n",
       "    .dataframe tbody tr th:only-of-type {\n",
       "        vertical-align: middle;\n",
       "    }\n",
       "\n",
       "    .dataframe tbody tr th {\n",
       "        vertical-align: top;\n",
       "    }\n",
       "\n",
       "    .dataframe thead th {\n",
       "        text-align: right;\n",
       "    }\n",
       "</style>\n",
       "<table border=\"1\" class=\"dataframe\">\n",
       "  <thead>\n",
       "    <tr style=\"text-align: right;\">\n",
       "      <th></th>\n",
       "      <th>rev</th>\n",
       "    </tr>\n",
       "    <tr>\n",
       "      <th>date</th>\n",
       "      <th></th>\n",
       "    </tr>\n",
       "  </thead>\n",
       "  <tbody>\n",
       "    <tr>\n",
       "      <th>2018-06</th>\n",
       "      <td>40854.6</td>\n",
       "    </tr>\n",
       "    <tr>\n",
       "      <th>2018-07</th>\n",
       "      <td>45086.4</td>\n",
       "    </tr>\n",
       "    <tr>\n",
       "      <th>2018-08</th>\n",
       "      <td>23822.4</td>\n",
       "    </tr>\n",
       "    <tr>\n",
       "      <th>2018-09</th>\n",
       "      <td>99715.4</td>\n",
       "    </tr>\n",
       "    <tr>\n",
       "      <th>2018-10</th>\n",
       "      <td>118600.4</td>\n",
       "    </tr>\n",
       "    <tr>\n",
       "      <th>2018-11</th>\n",
       "      <td>97824.4</td>\n",
       "    </tr>\n",
       "    <tr>\n",
       "      <th>2018-12</th>\n",
       "      <td>183340.6</td>\n",
       "    </tr>\n",
       "    <tr>\n",
       "      <th>2019-01</th>\n",
       "      <td>222195.4</td>\n",
       "    </tr>\n",
       "    <tr>\n",
       "      <th>2019-02</th>\n",
       "      <td>297169.4</td>\n",
       "    </tr>\n",
       "    <tr>\n",
       "      <th>2019-03</th>\n",
       "      <td>226226.2</td>\n",
       "    </tr>\n",
       "    <tr>\n",
       "      <th>2019-04</th>\n",
       "      <td>261651.0</td>\n",
       "    </tr>\n",
       "    <tr>\n",
       "      <th>2019-05</th>\n",
       "      <td>483138.0</td>\n",
       "    </tr>\n",
       "    <tr>\n",
       "      <th>2019-06</th>\n",
       "      <td>390592.6</td>\n",
       "    </tr>\n",
       "    <tr>\n",
       "      <th>2019-07</th>\n",
       "      <td>413294.4</td>\n",
       "    </tr>\n",
       "    <tr>\n",
       "      <th>2019-08</th>\n",
       "      <td>556918.0</td>\n",
       "    </tr>\n",
       "    <tr>\n",
       "      <th>2019-09</th>\n",
       "      <td>474284.0</td>\n",
       "    </tr>\n",
       "    <tr>\n",
       "      <th>2019-10</th>\n",
       "      <td>562137.6</td>\n",
       "    </tr>\n",
       "    <tr>\n",
       "      <th>2019-11</th>\n",
       "      <td>469975.2</td>\n",
       "    </tr>\n",
       "    <tr>\n",
       "      <th>2019-12</th>\n",
       "      <td>693639.2</td>\n",
       "    </tr>\n",
       "    <tr>\n",
       "      <th>2020-01</th>\n",
       "      <td>777468.6</td>\n",
       "    </tr>\n",
       "    <tr>\n",
       "      <th>2020-02</th>\n",
       "      <td>625254.0</td>\n",
       "    </tr>\n",
       "    <tr>\n",
       "      <th>2020-03</th>\n",
       "      <td>813110.2</td>\n",
       "    </tr>\n",
       "    <tr>\n",
       "      <th>2020-04</th>\n",
       "      <td>836891.8</td>\n",
       "    </tr>\n",
       "    <tr>\n",
       "      <th>2020-05</th>\n",
       "      <td>870517.0</td>\n",
       "    </tr>\n",
       "    <tr>\n",
       "      <th>2020-06</th>\n",
       "      <td>983335.2</td>\n",
       "    </tr>\n",
       "    <tr>\n",
       "      <th>2020-07</th>\n",
       "      <td>933993.8</td>\n",
       "    </tr>\n",
       "    <tr>\n",
       "      <th>2020-08</th>\n",
       "      <td>1012863.2</td>\n",
       "    </tr>\n",
       "    <tr>\n",
       "      <th>2020-09</th>\n",
       "      <td>782563.2</td>\n",
       "    </tr>\n",
       "    <tr>\n",
       "      <th>2020-10</th>\n",
       "      <td>930255.2</td>\n",
       "    </tr>\n",
       "    <tr>\n",
       "      <th>2020-11</th>\n",
       "      <td>999178.0</td>\n",
       "    </tr>\n",
       "    <tr>\n",
       "      <th>2020-12</th>\n",
       "      <td>942348.4</td>\n",
       "    </tr>\n",
       "    <tr>\n",
       "      <th>2021-01</th>\n",
       "      <td>928938.8</td>\n",
       "    </tr>\n",
       "    <tr>\n",
       "      <th>2021-02</th>\n",
       "      <td>1020212.2</td>\n",
       "    </tr>\n",
       "    <tr>\n",
       "      <th>2021-03</th>\n",
       "      <td>1159845.0</td>\n",
       "    </tr>\n",
       "    <tr>\n",
       "      <th>2021-04</th>\n",
       "      <td>1162749.8</td>\n",
       "    </tr>\n",
       "    <tr>\n",
       "      <th>2021-05</th>\n",
       "      <td>1258399.4</td>\n",
       "    </tr>\n",
       "    <tr>\n",
       "      <th>2021-06</th>\n",
       "      <td>1526444.0</td>\n",
       "    </tr>\n",
       "    <tr>\n",
       "      <th>2021-07</th>\n",
       "      <td>1395624.0</td>\n",
       "    </tr>\n",
       "    <tr>\n",
       "      <th>2021-08</th>\n",
       "      <td>1130664.0</td>\n",
       "    </tr>\n",
       "    <tr>\n",
       "      <th>2021-09</th>\n",
       "      <td>1325228.4</td>\n",
       "    </tr>\n",
       "    <tr>\n",
       "      <th>2021-10</th>\n",
       "      <td>1087706.8</td>\n",
       "    </tr>\n",
       "    <tr>\n",
       "      <th>2021-11</th>\n",
       "      <td>655322.8</td>\n",
       "    </tr>\n",
       "    <tr>\n",
       "      <th>2021-12</th>\n",
       "      <td>752652.0</td>\n",
       "    </tr>\n",
       "    <tr>\n",
       "      <th>2022-01</th>\n",
       "      <td>264028.0</td>\n",
       "    </tr>\n",
       "  </tbody>\n",
       "</table>\n",
       "</div>"
      ],
      "text/plain": [
       "               rev\n",
       "date              \n",
       "2018-06    40854.6\n",
       "2018-07    45086.4\n",
       "2018-08    23822.4\n",
       "2018-09    99715.4\n",
       "2018-10   118600.4\n",
       "2018-11    97824.4\n",
       "2018-12   183340.6\n",
       "2019-01   222195.4\n",
       "2019-02   297169.4\n",
       "2019-03   226226.2\n",
       "2019-04   261651.0\n",
       "2019-05   483138.0\n",
       "2019-06   390592.6\n",
       "2019-07   413294.4\n",
       "2019-08   556918.0\n",
       "2019-09   474284.0\n",
       "2019-10   562137.6\n",
       "2019-11   469975.2\n",
       "2019-12   693639.2\n",
       "2020-01   777468.6\n",
       "2020-02   625254.0\n",
       "2020-03   813110.2\n",
       "2020-04   836891.8\n",
       "2020-05   870517.0\n",
       "2020-06   983335.2\n",
       "2020-07   933993.8\n",
       "2020-08  1012863.2\n",
       "2020-09   782563.2\n",
       "2020-10   930255.2\n",
       "2020-11   999178.0\n",
       "2020-12   942348.4\n",
       "2021-01   928938.8\n",
       "2021-02  1020212.2\n",
       "2021-03  1159845.0\n",
       "2021-04  1162749.8\n",
       "2021-05  1258399.4\n",
       "2021-06  1526444.0\n",
       "2021-07  1395624.0\n",
       "2021-08  1130664.0\n",
       "2021-09  1325228.4\n",
       "2021-10  1087706.8\n",
       "2021-11   655322.8\n",
       "2021-12   752652.0\n",
       "2022-01   264028.0"
      ]
     },
     "execution_count": 12,
     "metadata": {},
     "output_type": "execute_result"
    }
   ],
   "source": [
    "ts"
   ]
  },
  {
   "cell_type": "code",
   "execution_count": null,
   "id": "155e5260",
   "metadata": {},
   "outputs": [],
   "source": []
  }
 ],
 "metadata": {
  "kernelspec": {
   "display_name": "Python 3 (ipykernel)",
   "language": "python",
   "name": "python3"
  },
  "language_info": {
   "codemirror_mode": {
    "name": "ipython",
    "version": 3
   },
   "file_extension": ".py",
   "mimetype": "text/x-python",
   "name": "python",
   "nbconvert_exporter": "python",
   "pygments_lexer": "ipython3",
   "version": "3.7.4"
  }
 },
 "nbformat": 4,
 "nbformat_minor": 5
}
